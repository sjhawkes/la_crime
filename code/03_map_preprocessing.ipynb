{
 "cells": [
  {
   "cell_type": "markdown",
   "metadata": {},
   "source": [
    "# Crime Maps\n",
    "- This notebook is for combining crime data with Los Angeles neighborhood GIS polygons"
   ]
  },
  {
   "cell_type": "code",
   "execution_count": 1,
   "metadata": {},
   "outputs": [],
   "source": [
    "import pandas as pd\n",
    "import matplotlib.pyplot as plt\n",
    "import numpy as np\n",
    "import geopandas\n",
    "from mpl_toolkits.axes_grid1 import make_axes_locatable\n",
    "import contextily as ctx"
   ]
  },
  {
   "cell_type": "markdown",
   "metadata": {},
   "source": [
    "#### Read in crime data"
   ]
  },
  {
   "cell_type": "code",
   "execution_count": 2,
   "metadata": {},
   "outputs": [
    {
     "name": "stdout",
     "output_type": "stream",
     "text": [
      "(2210104, 337)\n"
     ]
    },
    {
     "data": {
      "text/html": [
       "<div>\n",
       "<style scoped>\n",
       "    .dataframe tbody tr th:only-of-type {\n",
       "        vertical-align: middle;\n",
       "    }\n",
       "\n",
       "    .dataframe tbody tr th {\n",
       "        vertical-align: top;\n",
       "    }\n",
       "\n",
       "    .dataframe thead th {\n",
       "        text-align: right;\n",
       "    }\n",
       "</style>\n",
       "<table border=\"1\" class=\"dataframe\">\n",
       "  <thead>\n",
       "    <tr style=\"text-align: right;\">\n",
       "      <th></th>\n",
       "      <th>0</th>\n",
       "      <th>1</th>\n",
       "      <th>2</th>\n",
       "      <th>3</th>\n",
       "      <th>4</th>\n",
       "    </tr>\n",
       "  </thead>\n",
       "  <tbody>\n",
       "    <tr>\n",
       "      <th>nu_index</th>\n",
       "      <td>0</td>\n",
       "      <td>1</td>\n",
       "      <td>2</td>\n",
       "      <td>3</td>\n",
       "      <td>4</td>\n",
       "    </tr>\n",
       "    <tr>\n",
       "      <th>DR_NO</th>\n",
       "      <td>1307355</td>\n",
       "      <td>11401303</td>\n",
       "      <td>70309629</td>\n",
       "      <td>90631215</td>\n",
       "      <td>100100501</td>\n",
       "    </tr>\n",
       "    <tr>\n",
       "      <th>Date Rptd</th>\n",
       "      <td>02/20/2010 12:00:00 AM</td>\n",
       "      <td>09/13/2010 12:00:00 AM</td>\n",
       "      <td>08/09/2010 12:00:00 AM</td>\n",
       "      <td>01/05/2010 12:00:00 AM</td>\n",
       "      <td>01/03/2010 12:00:00 AM</td>\n",
       "    </tr>\n",
       "    <tr>\n",
       "      <th>DATE OCC</th>\n",
       "      <td>2010-02-20</td>\n",
       "      <td>2010-09-12</td>\n",
       "      <td>2010-08-09</td>\n",
       "      <td>2010-01-05</td>\n",
       "      <td>2010-01-02</td>\n",
       "    </tr>\n",
       "    <tr>\n",
       "      <th>TIME OCC</th>\n",
       "      <td>1350</td>\n",
       "      <td>45</td>\n",
       "      <td>1515</td>\n",
       "      <td>150</td>\n",
       "      <td>2100</td>\n",
       "    </tr>\n",
       "    <tr>\n",
       "      <th>...</th>\n",
       "      <td>...</td>\n",
       "      <td>...</td>\n",
       "      <td>...</td>\n",
       "      <td>...</td>\n",
       "      <td>...</td>\n",
       "    </tr>\n",
       "    <tr>\n",
       "      <th>P_burglary</th>\n",
       "      <td>0</td>\n",
       "      <td>0</td>\n",
       "      <td>0</td>\n",
       "      <td>0</td>\n",
       "      <td>0</td>\n",
       "    </tr>\n",
       "    <tr>\n",
       "      <th>P_mvt</th>\n",
       "      <td>0</td>\n",
       "      <td>0</td>\n",
       "      <td>0</td>\n",
       "      <td>0</td>\n",
       "      <td>0</td>\n",
       "    </tr>\n",
       "    <tr>\n",
       "      <th>P_btfv</th>\n",
       "      <td>0</td>\n",
       "      <td>0</td>\n",
       "      <td>0</td>\n",
       "      <td>0</td>\n",
       "      <td>0</td>\n",
       "    </tr>\n",
       "    <tr>\n",
       "      <th>P_theft_personal</th>\n",
       "      <td>0</td>\n",
       "      <td>0</td>\n",
       "      <td>0</td>\n",
       "      <td>0</td>\n",
       "      <td>0</td>\n",
       "    </tr>\n",
       "    <tr>\n",
       "      <th>P_theft_other</th>\n",
       "      <td>0</td>\n",
       "      <td>0</td>\n",
       "      <td>0</td>\n",
       "      <td>0</td>\n",
       "      <td>0</td>\n",
       "    </tr>\n",
       "  </tbody>\n",
       "</table>\n",
       "<p>337 rows × 5 columns</p>\n",
       "</div>"
      ],
      "text/plain": [
       "                                       0                       1  \\\n",
       "nu_index                               0                       1   \n",
       "DR_NO                            1307355                11401303   \n",
       "Date Rptd         02/20/2010 12:00:00 AM  09/13/2010 12:00:00 AM   \n",
       "DATE OCC                      2010-02-20              2010-09-12   \n",
       "TIME OCC                            1350                      45   \n",
       "...                                  ...                     ...   \n",
       "P_burglary                             0                       0   \n",
       "P_mvt                                  0                       0   \n",
       "P_btfv                                 0                       0   \n",
       "P_theft_personal                       0                       0   \n",
       "P_theft_other                          0                       0   \n",
       "\n",
       "                                       2                       3  \\\n",
       "nu_index                               2                       3   \n",
       "DR_NO                           70309629                90631215   \n",
       "Date Rptd         08/09/2010 12:00:00 AM  01/05/2010 12:00:00 AM   \n",
       "DATE OCC                      2010-08-09              2010-01-05   \n",
       "TIME OCC                            1515                     150   \n",
       "...                                  ...                     ...   \n",
       "P_burglary                             0                       0   \n",
       "P_mvt                                  0                       0   \n",
       "P_btfv                                 0                       0   \n",
       "P_theft_personal                       0                       0   \n",
       "P_theft_other                          0                       0   \n",
       "\n",
       "                                       4  \n",
       "nu_index                               4  \n",
       "DR_NO                          100100501  \n",
       "Date Rptd         01/03/2010 12:00:00 AM  \n",
       "DATE OCC                      2010-01-02  \n",
       "TIME OCC                            2100  \n",
       "...                                  ...  \n",
       "P_burglary                             0  \n",
       "P_mvt                                  0  \n",
       "P_btfv                                 0  \n",
       "P_theft_personal                       0  \n",
       "P_theft_other                          0  \n",
       "\n",
       "[337 rows x 5 columns]"
      ]
     },
     "execution_count": 2,
     "metadata": {},
     "output_type": "execute_result"
    }
   ],
   "source": [
    "crime = pd.read_csv('../datasets/crime_final.csv')\n",
    "print(crime.shape)\n",
    "crime.head().T"
   ]
  },
  {
   "cell_type": "code",
   "execution_count": 3,
   "metadata": {},
   "outputs": [
    {
     "name": "stdout",
     "output_type": "stream",
     "text": [
      "(272, 11)\n"
     ]
    },
    {
     "data": {
      "text/html": [
       "<div>\n",
       "<style scoped>\n",
       "    .dataframe tbody tr th:only-of-type {\n",
       "        vertical-align: middle;\n",
       "    }\n",
       "\n",
       "    .dataframe tbody tr th {\n",
       "        vertical-align: top;\n",
       "    }\n",
       "\n",
       "    .dataframe thead th {\n",
       "        text-align: right;\n",
       "    }\n",
       "</style>\n",
       "<table border=\"1\" class=\"dataframe\">\n",
       "  <thead>\n",
       "    <tr style=\"text-align: right;\">\n",
       "      <th></th>\n",
       "      <th>slug</th>\n",
       "      <th>set</th>\n",
       "      <th>kind</th>\n",
       "      <th>external_i</th>\n",
       "      <th>place</th>\n",
       "      <th>display_na</th>\n",
       "      <th>sqmi</th>\n",
       "      <th>type</th>\n",
       "      <th>name_1</th>\n",
       "      <th>slug_1</th>\n",
       "      <th>geometry</th>\n",
       "    </tr>\n",
       "  </thead>\n",
       "  <tbody>\n",
       "    <tr>\n",
       "      <th>0</th>\n",
       "      <td>acton</td>\n",
       "      <td>L.A. County Neighborhoods (Current)</td>\n",
       "      <td>L.A. County Neighborhood (Current)</td>\n",
       "      <td>acton</td>\n",
       "      <td>Acton</td>\n",
       "      <td>Acton L.A. County Neighborhood (Current)</td>\n",
       "      <td>39.3391089485</td>\n",
       "      <td>unincorporated-area</td>\n",
       "      <td>None</td>\n",
       "      <td>None</td>\n",
       "      <td>POLYGON ((-118.20262 34.53899, -118.18947 34.5...</td>\n",
       "    </tr>\n",
       "    <tr>\n",
       "      <th>1</th>\n",
       "      <td>adams-normandie</td>\n",
       "      <td>L.A. County Neighborhoods (Current)</td>\n",
       "      <td>L.A. County Neighborhood (Current)</td>\n",
       "      <td>adams-normandie</td>\n",
       "      <td>Adams-Normandie</td>\n",
       "      <td>Adams-Normandie L.A. County Neighborhood (Curr...</td>\n",
       "      <td>0.805350187789</td>\n",
       "      <td>segment-of-a-city</td>\n",
       "      <td>None</td>\n",
       "      <td>None</td>\n",
       "      <td>POLYGON ((-118.30901 34.03741, -118.30041 34.0...</td>\n",
       "    </tr>\n",
       "    <tr>\n",
       "      <th>2</th>\n",
       "      <td>agoura-hills</td>\n",
       "      <td>L.A. County Neighborhoods (Current)</td>\n",
       "      <td>L.A. County Neighborhood (Current)</td>\n",
       "      <td>agoura-hills</td>\n",
       "      <td>Agoura Hills</td>\n",
       "      <td>Agoura Hills L.A. County Neighborhood (Current)</td>\n",
       "      <td>8.14676029818</td>\n",
       "      <td>standalone-city</td>\n",
       "      <td>None</td>\n",
       "      <td>None</td>\n",
       "      <td>POLYGON ((-118.76193 34.16820, -118.72632 34.1...</td>\n",
       "    </tr>\n",
       "  </tbody>\n",
       "</table>\n",
       "</div>"
      ],
      "text/plain": [
       "              slug                                  set  \\\n",
       "0            acton  L.A. County Neighborhoods (Current)   \n",
       "1  adams-normandie  L.A. County Neighborhoods (Current)   \n",
       "2     agoura-hills  L.A. County Neighborhoods (Current)   \n",
       "\n",
       "                                 kind       external_i            place  \\\n",
       "0  L.A. County Neighborhood (Current)            acton            Acton   \n",
       "1  L.A. County Neighborhood (Current)  adams-normandie  Adams-Normandie   \n",
       "2  L.A. County Neighborhood (Current)     agoura-hills     Agoura Hills   \n",
       "\n",
       "                                          display_na            sqmi  \\\n",
       "0           Acton L.A. County Neighborhood (Current)   39.3391089485   \n",
       "1  Adams-Normandie L.A. County Neighborhood (Curr...  0.805350187789   \n",
       "2    Agoura Hills L.A. County Neighborhood (Current)   8.14676029818   \n",
       "\n",
       "                  type name_1 slug_1  \\\n",
       "0  unincorporated-area   None   None   \n",
       "1    segment-of-a-city   None   None   \n",
       "2      standalone-city   None   None   \n",
       "\n",
       "                                            geometry  \n",
       "0  POLYGON ((-118.20262 34.53899, -118.18947 34.5...  \n",
       "1  POLYGON ((-118.30901 34.03741, -118.30041 34.0...  \n",
       "2  POLYGON ((-118.76193 34.16820, -118.72632 34.1...  "
      ]
     },
     "execution_count": 3,
     "metadata": {},
     "output_type": "execute_result"
    }
   ],
   "source": [
    "gdf = geopandas.read_file('../datasets/la-county-neighborhoods-current/l.a. county neighborhood (current).shp')\n",
    "gdf.rename(columns={'name':'place'},inplace=True)\n",
    "print(gdf.shape)\n",
    "gdf.head(3)"
   ]
  },
  {
   "cell_type": "markdown",
   "metadata": {},
   "source": [
    "### Feature Engineering"
   ]
  },
  {
   "cell_type": "markdown",
   "metadata": {},
   "source": [
    "#### Change by year"
   ]
  },
  {
   "cell_type": "code",
   "execution_count": null,
   "metadata": {},
   "outputs": [],
   "source": [
    "series11 = []\n",
    "series12 = []\n",
    "series13 = []\n",
    "series14 = []\n",
    "series15 = []\n",
    "series16 = []\n",
    "series17 = []\n",
    "series18 = []\n",
    "series19 = []\n",
    "\n",
    "for place in gdf['place']:\n",
    "    series11.append(crime[crime['2011']==1][place].sum()-crime[crime['2010']==1][place].sum())\n",
    "    series12.append(crime[crime['2012']==1][place].sum()-crime[crime['2011']==1][place].sum())\n",
    "    series13.append(crime[crime['2013']==1][place].sum()-crime[crime['2012']==1][place].sum())\n",
    "    series14.append(crime[crime['2014']==1][place].sum()-crime[crime['2013']==1][place].sum())\n",
    "    series15.append(crime[crime['2015']==1][place].sum()-crime[crime['2014']==1][place].sum())\n",
    "    series16.append(crime[crime['2016']==1][place].sum()-crime[crime['2015']==1][place].sum())\n",
    "    series17.append(crime[crime['2017']==1][place].sum()-crime[crime['2016']==1][place].sum())\n",
    "    series18.append(crime[crime['2018']==1][place].sum()-crime[crime['2017']==1][place].sum())\n",
    "    series19.append(crime[crime['2019']==1][place].sum()-crime[crime['2018']==1][place].sum())\n",
    "\n",
    "gdf['change_11'] = series11\n",
    "gdf['change_12'] = series12\n",
    "gdf['change_13'] = series13\n",
    "gdf['change_14'] = series14\n",
    "gdf['change_15'] = series15\n",
    "gdf['change_16'] = series16\n",
    "gdf['change_17'] = series17\n",
    "gdf['change_18'] = series18\n",
    "gdf['change_19'] = series19"
   ]
  },
  {
   "cell_type": "markdown",
   "metadata": {},
   "source": [
    "#### Total crimes by neighborhood"
   ]
  },
  {
   "cell_type": "code",
   "execution_count": null,
   "metadata": {},
   "outputs": [],
   "source": [
    "series = []\n",
    "\n",
    "for place in gdf['place']:\n",
    "    series.append(crime[place].sum())\n",
    "\n",
    "gdf['AllCrimes_2010-2020'] = series"
   ]
  },
  {
   "cell_type": "code",
   "execution_count": null,
   "metadata": {},
   "outputs": [],
   "source": [
    "series2011 = []\n",
    "series2012 = []\n",
    "series2013 = []\n",
    "series2014 = []\n",
    "series2015 = []\n",
    "series2016 = []\n",
    "series2017 = []\n",
    "series2018 = []\n",
    "series2019 = []\n",
    "series2020 = []\n",
    "\n",
    "for place in gdf['place']:\n",
    "    series2011.append(crime[crime['2011']==1][place].sum())\n",
    "    series2012.append(crime[crime['2012']==1][place].sum())\n",
    "    series2013.append(crime[crime['2013']==1][place].sum())\n",
    "    series2014.append(crime[crime['2014']==1][place].sum())\n",
    "    series2015.append(crime[crime['2015']==1][place].sum())\n",
    "    series2016.append(crime[crime['2016']==1][place].sum())\n",
    "    series2017.append(crime[crime['2017']==1][place].sum())\n",
    "    series2018.append(crime[crime['2018']==1][place].sum())\n",
    "    series2019.append(crime[crime['2019']==1][place].sum())\n",
    "    series2020.append(crime[crime['2020']==1][place].sum())\n",
    "\n",
    "gdf['crime_11'] = series2011\n",
    "gdf['crime_12'] = series2012\n",
    "gdf['crime_13'] = series2013\n",
    "gdf['crime_14'] = series2014\n",
    "gdf['crime_15'] = series2015\n",
    "gdf['crime_16'] = series2016\n",
    "gdf['crime_17'] = series2017\n",
    "gdf['crime_18'] = series2018\n",
    "gdf['crime_19'] = series2019\n",
    "gdf['crime_20'] = series2020"
   ]
  },
  {
   "cell_type": "code",
   "execution_count": null,
   "metadata": {},
   "outputs": [],
   "source": [
    "series2010 = []\n",
    "for place in gdf['place']:\n",
    "    series2010.append(crime[crime['2010']==1][place].sum())\n",
    "gdf['crime_10'] = series2010"
   ]
  },
  {
   "cell_type": "code",
   "execution_count": null,
   "metadata": {},
   "outputs": [],
   "source": [
    "gdf['change_11_pct'] = gdf['change_11']/gdf['crime_10']\n",
    "gdf['change_12_pct'] = gdf['change_12']/gdf['crime_11']\n",
    "gdf['change_13_pct'] = gdf['change_13']/gdf['crime_12']\n",
    "gdf['change_14_pct'] = gdf['change_14']/gdf['crime_13']\n",
    "gdf['change_15_pct'] = gdf['change_15']/gdf['crime_14']\n",
    "gdf['change_16_pct'] = gdf['change_16']/gdf['crime_15']\n",
    "gdf['change_17_pct'] = gdf['change_17']/gdf['crime_16']\n",
    "gdf['change_18_pct'] = gdf['change_18']/gdf['crime_17']\n",
    "gdf['change_19_pct'] = gdf['change_19']/gdf['crime_18']"
   ]
  },
  {
   "cell_type": "code",
   "execution_count": null,
   "metadata": {},
   "outputs": [],
   "source": [
    "gdf['last10_pct'] = gdf['change_11_pct']+gdf['change_12_pct']+gdf['change_13_pct']+gdf['change_14_pct']+gdf['change_15_pct']+gdf['change_16_pct']+gdf['change_17_pct']+gdf['change_18_pct']+gdf['change_19_pct']\n",
    "gdf['last5_pct_pct'] = gdf['change_15_pct']+gdf['change_16_pct']+gdf['change_17_pct']+gdf['change_18_pct']+gdf['change_19_pct']"
   ]
  },
  {
   "cell_type": "markdown",
   "metadata": {},
   "source": [
    "#### Generate Plots"
   ]
  },
  {
   "cell_type": "code",
   "execution_count": null,
   "metadata": {},
   "outputs": [],
   "source": [
    "gdf.head(3).T"
   ]
  },
  {
   "cell_type": "markdown",
   "metadata": {},
   "source": [
    "#### Write gdf to file"
   ]
  },
  {
   "cell_type": "code",
   "execution_count": 164,
   "metadata": {},
   "outputs": [],
   "source": [
    "gdf.to_file(\"datasets/crime_maps.shp\")"
   ]
  }
 ],
 "metadata": {
  "kernelspec": {
   "display_name": "Python [conda env:geo_env]",
   "language": "python",
   "name": "conda-env-geo_env-py"
  },
  "language_info": {
   "codemirror_mode": {
    "name": "ipython",
    "version": 3
   },
   "file_extension": ".py",
   "mimetype": "text/x-python",
   "name": "python",
   "nbconvert_exporter": "python",
   "pygments_lexer": "ipython3",
   "version": "3.8.2"
  }
 },
 "nbformat": 4,
 "nbformat_minor": 4
}
